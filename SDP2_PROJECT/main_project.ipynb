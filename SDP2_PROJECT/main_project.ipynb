
import tensorflow as tf
from tensorflow.keras.models import Sequential
from tensorflow.keras.layers import Conv2D, MaxPooling2D, Flatten, Dense, Dropout
from tensorflow.keras.preprocessing.image import ImageDataGenerator
from tensorflow.keras.callbacks import ModelCheckpoint


img_height, img_width = 150, 150
batch_size = 32
epochs = 25

train_datagen = ImageDataGenerator(rescale=1.0/255.0,
                                   rotation_range=20,
                                   width_shift_range=0.2,
                                   height_shift_range=0.2,
                                   zoom_range=0.2,
                                   horizontal_flip=True)

val_datagen = ImageDataGenerator(rescale=1.0/255.0)

train_dir = '/content/drive/MyDrive/Fruits-sdp/fruitsDatatset/train'  
val_dir = '/content/drive/MyDrive/Fruits-sdp/fruitsDatatset/validation' 

train_data = train_datagen.flow_from_directory(
    train_dir,
    target_size=(img_height, img_width),
    batch_size=batch_size,
    class_mode='sparse'
)

val_data = val_datagen.flow_from_directory(
    val_dir,
    target_size=(img_height, img_width),
    batch_size=batch_size,
    class_mode='sparse'
)

model = Sequential([
    Conv2D(32, (3, 3), activation='relu', input_shape=(img_height, img_width, 3)),
    MaxPooling2D((2, 2)),

    Conv2D(64, (3, 3), activation='relu'),
    MaxPooling2D((2, 2)),

    Conv2D(128, (3, 3), activation='relu'),
    MaxPooling2D((2, 2)),

    Flatten(),
    Dense(256, activation='relu'),
    Dropout(0.5),
    Dense(len(train_data.class_indices), activation='softmax')
])

model.compile(optimizer='adam',
              loss='sparse_categorical_crossentropy',
              metrics=['accuracy'])


checkpoint = ModelCheckpoint('/content/drive/MyDrive/MODEL/main_fruit_model.keras', 
                             monitor='val_accuracy',
                             save_best_only=True,
                             mode='max')


history = model.fit(
    train_data,
    validation_data=val_data,
    epochs=epochs,
    callbacks=[checkpoint]
)


model.summary()

(* Below code is for predction for any fruit image path vise in that cell only. *)

import tensorflow as tf
from tensorflow.keras.preprocessing import image
import numpy as np
import os


model = tf.keras.models.load_model('/content/drive/MyDrive/MODEL/main_fruit_model.keras')  


model.summary()


train_dir = '/content/drive/MyDrive/Fruits-sdp/fruitsDatatset/train'  



class_labels = sorted([folder for folder in os.listdir(train_dir) if folder.isdigit()])


def preprocess_image(img_path, target_size=(150, 150)):
    """Load and preprocess an image for model prediction."""
    img = image.load_img(img_path, target_size=target_size)
    img_array = image.img_to_array(img)
    img_array = np.expand_dims(img_array, axis=0) 
    img_array /= 255.0  
    return img_array

def predict_calories(img_path):
    """Predict the calorie value of the fruit in the image."""
    
    img_array = preprocess_image(img_path, target_size=(150, 150)) 

    predictions = model.predict(img_array)
    predicted_index = np.argmax(predictions, axis=1)[0]
    predicted_label = class_labels[predicted_index]

    print(f"Predicted Calorie: {predicted_label}")
    return predicted_label


img_path = 'your path'
predicted_calories = predict_calories(img_path)

(* Below code is for the fruit calorie predciton by the image through Gradio Interface . *)


!pip install gradio

import tensorflow as tf
from tensorflow.keras.preprocessing import image
import numpy as np
import os
import gradio as gr


model = tf.keras.models.load_model('/content/drive/MyDrive/MODEL/main_fruit_model.keras') 


train_dir = '/content/drive/MyDrive/Fruits-sdp/fruitsDatatset/train'  


class_labels = sorted([folder for folder in os.listdir(train_dir) if folder.isdigit()])

def preprocess_image(img, target_size=(150, 150)):
    """Preprocess an image for model prediction."""
    img = img.resize(target_size) 
    img_array = image.img_to_array(img)
    img_array = np.expand_dims(img_array, axis=0) 
    img_array /= 255.0 
    return img_array

def predict_calories(img):
    """Predict the calorie value of the fruit in the image and return the result with the original image."""
    img_array = preprocess_image(img, target_size=(150, 150)) 

    predictions = model.predict(img_array)
    predicted_index = np.argmax(predictions, axis=1)[0]
    predicted_label = class_labels[predicted_index]

    return img, f"Predicted Calorie: {predicted_label}"


interface = gr.Interface(
    fn=predict_calories,
    inputs=gr.Image(type="pil"),  
    outputs=[gr.Image(type="pil"), gr.Textbox()], 
    title="Fruit Calorie Prediction",
    description="Upload an image of a fruit to get the estimated calorie count."
)

interface.launch(share=True)


